{
 "cells": [
  {
   "cell_type": "code",
   "execution_count": 6,
   "metadata": {
    "ExecuteTime": {
     "end_time": "2021-11-22T05:48:14.716709Z",
     "start_time": "2021-11-22T05:48:14.682655Z"
    }
   },
   "outputs": [],
   "source": [
    "# read in model\n",
    "import joblib\n",
    "ichmodel=joblib.load(\"X2042005LSCI\\ich_model.pkl\")\n",
    "import easygui\n",
    "#GUI import\n",
    "import pandas as pd\n"
   ]
  },
  {
   "cell_type": "code",
   "execution_count": 7,
   "metadata": {
    "ExecuteTime": {
     "end_time": "2021-11-22T05:48:14.964278Z",
     "start_time": "2021-11-22T05:48:14.956282Z"
    }
   },
   "outputs": [],
   "source": [
    "data_used = pd.read_csv(\"X2042005LSCI\\example_file.csv\")"
   ]
  },
  {
   "cell_type": "code",
   "execution_count": 10,
   "metadata": {
    "ExecuteTime": {
     "end_time": "2021-11-22T05:50:18.661722Z",
     "start_time": "2021-11-22T05:50:18.641802Z"
    }
   },
   "outputs": [
    {
     "name": "stdout",
     "output_type": "stream",
     "text": [
      "You might have ND\n"
     ]
    }
   ],
   "source": [
    "predict_prob = ichmodel.predict_proba(data_used)[:,1]\n",
    "if predict_prob>=0.451:\n",
    "    print(\"You might not have ND\")\n",
    "else:\n",
    "    print(\"You might have ND\")"
   ]
  },
  {
   "cell_type": "code",
   "execution_count": null,
   "metadata": {},
   "outputs": [],
   "source": []
  }
 ],
 "metadata": {
  "kernelspec": {
   "display_name": "Python 3",
   "language": "python",
   "name": "python3"
  },
  "language_info": {
   "codemirror_mode": {
    "name": "ipython",
    "version": 3
   },
   "file_extension": ".py",
   "mimetype": "text/x-python",
   "name": "python",
   "nbconvert_exporter": "python",
   "pygments_lexer": "ipython3",
   "version": "3.7.4"
  },
  "toc": {
   "base_numbering": 1,
   "nav_menu": {},
   "number_sections": true,
   "sideBar": true,
   "skip_h1_title": false,
   "title_cell": "Table of Contents",
   "title_sidebar": "Contents",
   "toc_cell": false,
   "toc_position": {},
   "toc_section_display": true,
   "toc_window_display": false
  }
 },
 "nbformat": 4,
 "nbformat_minor": 2
}
